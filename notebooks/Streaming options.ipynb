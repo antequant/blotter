{
 "cells": [
  {
   "cell_type": "code",
   "execution_count": 1,
   "metadata": {},
   "outputs": [],
   "source": [
    "from ib_insync import *\n",
    "import random"
   ]
  },
  {
   "cell_type": "code",
   "execution_count": 2,
   "metadata": {},
   "outputs": [],
   "source": [
    "util.startLoop()"
   ]
  },
  {
   "cell_type": "code",
   "execution_count": 3,
   "metadata": {},
   "outputs": [
    {
     "data": {
      "text/plain": [
       "<IB connected to 127.0.0.1:4002 clientId=69473>"
      ]
     },
     "execution_count": 3,
     "metadata": {},
     "output_type": "execute_result"
    }
   ],
   "source": [
    "ib = IB()\n",
    "ib.connect('127.0.0.1', 4002, readonly=True, clientId=random.randint(1, 100000))"
   ]
  },
  {
   "cell_type": "code",
   "execution_count": 4,
   "metadata": {},
   "outputs": [
    {
     "data": {
      "text/plain": [
       "[Future(conId=346577697, symbol='ES', lastTradeDateOrContractMonth='20200320', multiplier='50', exchange='GLOBEX', currency='USD', localSymbol='ESH0', tradingClass='ES')]"
      ]
     },
     "execution_count": 4,
     "metadata": {},
     "output_type": "execute_result"
    }
   ],
   "source": [
    "underlying = Future('ES', '202003', exchange='GLOBEX', currency='USD')\n",
    "ib.qualifyContracts(underlying)"
   ]
  },
  {
   "cell_type": "code",
   "execution_count": 5,
   "metadata": {
    "scrolled": true
   },
   "outputs": [
    {
     "data": {
      "text/html": [
       "<div>\n",
       "<style scoped>\n",
       "    .dataframe tbody tr th:only-of-type {\n",
       "        vertical-align: middle;\n",
       "    }\n",
       "\n",
       "    .dataframe tbody tr th {\n",
       "        vertical-align: top;\n",
       "    }\n",
       "\n",
       "    .dataframe thead th {\n",
       "        text-align: right;\n",
       "    }\n",
       "</style>\n",
       "<table border=\"1\" class=\"dataframe\">\n",
       "  <thead>\n",
       "    <tr style=\"text-align: right;\">\n",
       "      <th></th>\n",
       "      <th>exchange</th>\n",
       "      <th>underlyingConId</th>\n",
       "      <th>tradingClass</th>\n",
       "      <th>multiplier</th>\n",
       "      <th>expirations</th>\n",
       "      <th>strikes</th>\n",
       "    </tr>\n",
       "  </thead>\n",
       "  <tbody>\n",
       "    <tr>\n",
       "      <th>0</th>\n",
       "      <td>GLOBEX</td>\n",
       "      <td>346577697</td>\n",
       "      <td>ES</td>\n",
       "      <td>50</td>\n",
       "      <td>[20200320]</td>\n",
       "      <td>[1200.0, 1250.0, 1300.0, 1350.0, 1400.0, 1450....</td>\n",
       "    </tr>\n",
       "    <tr>\n",
       "      <th>1</th>\n",
       "      <td>GLOBEX</td>\n",
       "      <td>346577697</td>\n",
       "      <td>EW2</td>\n",
       "      <td>50</td>\n",
       "      <td>[20200110]</td>\n",
       "      <td>[1600.0, 1700.0, 1800.0, 1900.0, 1950.0, 2000....</td>\n",
       "    </tr>\n",
       "    <tr>\n",
       "      <th>2</th>\n",
       "      <td>GLOBEX</td>\n",
       "      <td>346577697</td>\n",
       "      <td>EW1</td>\n",
       "      <td>50</td>\n",
       "      <td>[20200103]</td>\n",
       "      <td>[1600.0, 1700.0, 1800.0, 1900.0, 1950.0, 2000....</td>\n",
       "    </tr>\n",
       "    <tr>\n",
       "      <th>3</th>\n",
       "      <td>GLOBEX</td>\n",
       "      <td>346577697</td>\n",
       "      <td>E2C</td>\n",
       "      <td>50</td>\n",
       "      <td>[20200108]</td>\n",
       "      <td>[1600.0, 1700.0, 1800.0, 1900.0, 1950.0, 2000....</td>\n",
       "    </tr>\n",
       "    <tr>\n",
       "      <th>4</th>\n",
       "      <td>GLOBEX</td>\n",
       "      <td>346577697</td>\n",
       "      <td>E1A</td>\n",
       "      <td>50</td>\n",
       "      <td>[20200106]</td>\n",
       "      <td>[1600.0, 1700.0, 1800.0, 1900.0, 1950.0, 2000....</td>\n",
       "    </tr>\n",
       "    <tr>\n",
       "      <th>5</th>\n",
       "      <td>GLOBEX</td>\n",
       "      <td>346577697</td>\n",
       "      <td>E3C</td>\n",
       "      <td>50</td>\n",
       "      <td>[20200115]</td>\n",
       "      <td>[1600.0, 1700.0, 1800.0, 1900.0, 1950.0, 2000....</td>\n",
       "    </tr>\n",
       "    <tr>\n",
       "      <th>6</th>\n",
       "      <td>GLOBEX</td>\n",
       "      <td>346577697</td>\n",
       "      <td>E4A</td>\n",
       "      <td>50</td>\n",
       "      <td>[20191223]</td>\n",
       "      <td>[1600.0, 1700.0, 1800.0, 1900.0, 1950.0, 2000....</td>\n",
       "    </tr>\n",
       "    <tr>\n",
       "      <th>7</th>\n",
       "      <td>GLOBEX</td>\n",
       "      <td>346577697</td>\n",
       "      <td>EW4</td>\n",
       "      <td>50</td>\n",
       "      <td>[20191227, 20200124]</td>\n",
       "      <td>[100.0, 1100.0, 1600.0, 1700.0, 1800.0, 1900.0...</td>\n",
       "    </tr>\n",
       "    <tr>\n",
       "      <th>8</th>\n",
       "      <td>GLOBEX</td>\n",
       "      <td>346577697</td>\n",
       "      <td>E5A</td>\n",
       "      <td>50</td>\n",
       "      <td>[20191230]</td>\n",
       "      <td>[1600.0, 1700.0, 1800.0, 1900.0, 1950.0, 2000....</td>\n",
       "    </tr>\n",
       "    <tr>\n",
       "      <th>9</th>\n",
       "      <td>GLOBEX</td>\n",
       "      <td>346577697</td>\n",
       "      <td>EW</td>\n",
       "      <td>50</td>\n",
       "      <td>[20191231, 20200131, 20200228]</td>\n",
       "      <td>[1200.0, 1250.0, 1300.0, 1350.0, 1400.0, 1450....</td>\n",
       "    </tr>\n",
       "    <tr>\n",
       "      <th>10</th>\n",
       "      <td>GLOBEX</td>\n",
       "      <td>346577697</td>\n",
       "      <td>EW3</td>\n",
       "      <td>50</td>\n",
       "      <td>[20200117, 20200221]</td>\n",
       "      <td>[100.0, 1000.0, 1100.0, 1200.0, 1300.0, 1350.0...</td>\n",
       "    </tr>\n",
       "    <tr>\n",
       "      <th>11</th>\n",
       "      <td>GLOBEX</td>\n",
       "      <td>346577697</td>\n",
       "      <td>E4C</td>\n",
       "      <td>50</td>\n",
       "      <td>[20191224]</td>\n",
       "      <td>[1600.0, 1700.0, 1800.0, 1900.0, 1950.0, 2000....</td>\n",
       "    </tr>\n",
       "  </tbody>\n",
       "</table>\n",
       "</div>"
      ],
      "text/plain": [
       "   exchange underlyingConId tradingClass multiplier  \\\n",
       "0    GLOBEX       346577697           ES         50   \n",
       "1    GLOBEX       346577697          EW2         50   \n",
       "2    GLOBEX       346577697          EW1         50   \n",
       "3    GLOBEX       346577697          E2C         50   \n",
       "4    GLOBEX       346577697          E1A         50   \n",
       "5    GLOBEX       346577697          E3C         50   \n",
       "6    GLOBEX       346577697          E4A         50   \n",
       "7    GLOBEX       346577697          EW4         50   \n",
       "8    GLOBEX       346577697          E5A         50   \n",
       "9    GLOBEX       346577697           EW         50   \n",
       "10   GLOBEX       346577697          EW3         50   \n",
       "11   GLOBEX       346577697          E4C         50   \n",
       "\n",
       "                       expirations  \\\n",
       "0                       [20200320]   \n",
       "1                       [20200110]   \n",
       "2                       [20200103]   \n",
       "3                       [20200108]   \n",
       "4                       [20200106]   \n",
       "5                       [20200115]   \n",
       "6                       [20191223]   \n",
       "7             [20191227, 20200124]   \n",
       "8                       [20191230]   \n",
       "9   [20191231, 20200131, 20200228]   \n",
       "10            [20200117, 20200221]   \n",
       "11                      [20191224]   \n",
       "\n",
       "                                              strikes  \n",
       "0   [1200.0, 1250.0, 1300.0, 1350.0, 1400.0, 1450....  \n",
       "1   [1600.0, 1700.0, 1800.0, 1900.0, 1950.0, 2000....  \n",
       "2   [1600.0, 1700.0, 1800.0, 1900.0, 1950.0, 2000....  \n",
       "3   [1600.0, 1700.0, 1800.0, 1900.0, 1950.0, 2000....  \n",
       "4   [1600.0, 1700.0, 1800.0, 1900.0, 1950.0, 2000....  \n",
       "5   [1600.0, 1700.0, 1800.0, 1900.0, 1950.0, 2000....  \n",
       "6   [1600.0, 1700.0, 1800.0, 1900.0, 1950.0, 2000....  \n",
       "7   [100.0, 1100.0, 1600.0, 1700.0, 1800.0, 1900.0...  \n",
       "8   [1600.0, 1700.0, 1800.0, 1900.0, 1950.0, 2000....  \n",
       "9   [1200.0, 1250.0, 1300.0, 1350.0, 1400.0, 1450....  \n",
       "10  [100.0, 1000.0, 1100.0, 1200.0, 1300.0, 1350.0...  \n",
       "11  [1600.0, 1700.0, 1800.0, 1900.0, 1950.0, 2000....  "
      ]
     },
     "execution_count": 5,
     "metadata": {},
     "output_type": "execute_result"
    }
   ],
   "source": [
    "option_chains = ib.reqSecDefOptParams(\n",
    "    underlyingSymbol=underlying.symbol,\n",
    "    futFopExchange=underlying.exchange if underlying.secType == \"FUT\" else \"\",\n",
    "    underlyingSecType=underlying.secType,\n",
    "    underlyingConId=underlying.conId,\n",
    ")\n",
    "\n",
    "util.df(option_chains)"
   ]
  },
  {
   "cell_type": "code",
   "execution_count": 6,
   "metadata": {},
   "outputs": [
    {
     "data": {
      "text/plain": [
       "[OptionChain(exchange='GLOBEX', underlyingConId='346577697', tradingClass='ES', multiplier='50', expirations=['20200320'], strikes=[1200.0, 1250.0, 1300.0, 1350.0, 1400.0, 1450.0, 1500.0, 1550.0, 1600.0, 1650.0, 1700.0, 1750.0, 1800.0, 1850.0, 1900.0, 1950.0, 2000.0, 2050.0, 2100.0, 2150.0, 2160.0, 2170.0, 2180.0, 2190.0, 2200.0, 2210.0, 2220.0, 2230.0, 2240.0, 2250.0, 2260.0, 2270.0, 2280.0, 2290.0, 2300.0, 2310.0, 2320.0, 2330.0, 2340.0, 2350.0, 2360.0, 2370.0, 2380.0, 2390.0, 2400.0, 2410.0, 2420.0, 2430.0, 2440.0, 2450.0, 2460.0, 2470.0, 2480.0, 2490.0, 2500.0, 2510.0, 2520.0, 2530.0, 2540.0, 2550.0, 2560.0, 2570.0, 2580.0, 2590.0, 2600.0, 2610.0, 2620.0, 2630.0, 2640.0, 2650.0, 2660.0, 2670.0, 2680.0, 2690.0, 2700.0, 2710.0, 2720.0, 2730.0, 2740.0, 2750.0, 2760.0, 2770.0, 2780.0, 2790.0, 2800.0, 2810.0, 2820.0, 2830.0, 2840.0, 2850.0, 2860.0, 2870.0, 2880.0, 2890.0, 2900.0, 2910.0, 2920.0, 2925.0, 2930.0, 2940.0, 2950.0, 2960.0, 2970.0, 2975.0, 2980.0, 2990.0, 3000.0, 3010.0, 3020.0, 3025.0, 3030.0, 3040.0, 3050.0, 3060.0, 3070.0, 3075.0, 3080.0, 3090.0, 3100.0, 3110.0, 3120.0, 3125.0, 3130.0, 3140.0, 3150.0, 3160.0, 3170.0, 3175.0, 3180.0, 3190.0, 3200.0, 3210.0, 3220.0, 3230.0, 3240.0, 3250.0, 3260.0, 3270.0, 3280.0, 3290.0, 3300.0, 3310.0, 3320.0, 3330.0, 3340.0, 3350.0, 3360.0, 3370.0, 3380.0, 3390.0, 3400.0, 3410.0, 3420.0, 3430.0, 3440.0, 3450.0, 3460.0, 3470.0, 3480.0, 3490.0, 3500.0, 3550.0, 3600.0, 3650.0, 3700.0, 3750.0, 3800.0, 3900.0, 3975.0, 4000.0, 4100.0])]"
      ]
     },
     "execution_count": 6,
     "metadata": {},
     "output_type": "execute_result"
    }
   ],
   "source": [
    "limited_option_chains = [c for c in option_chains if c.tradingClass == 'ES']\n",
    "limited_option_chains"
   ]
  },
  {
   "cell_type": "code",
   "execution_count": 7,
   "metadata": {},
   "outputs": [
    {
     "data": {
      "text/plain": [
       "342"
      ]
     },
     "execution_count": 7,
     "metadata": {},
     "output_type": "execute_result"
    }
   ],
   "source": [
    "option_contracts = [\n",
    "    (FuturesOption if underlying.secType == \"FUT\" else Option)(\n",
    "        symbol=underlying.symbol,\n",
    "        lastTradeDateOrContractMonth=expiration,\n",
    "        strike=strike,\n",
    "        right=right,\n",
    "        exchange=chain.exchange,\n",
    "        multiplier=chain.multiplier,\n",
    "        tradingClass=chain.tradingClass,\n",
    "    )\n",
    "    for chain in limited_option_chains\n",
    "    if chain.exchange == underlying.exchange\n",
    "    for expiration in chain.expirations\n",
    "    for strike in chain.strikes\n",
    "    for right in [\"P\", \"C\"]\n",
    "]\n",
    "\n",
    "len(option_contracts)"
   ]
  },
  {
   "cell_type": "code",
   "execution_count": 8,
   "metadata": {},
   "outputs": [
    {
     "data": {
      "text/plain": [
       "342"
      ]
     },
     "execution_count": 8,
     "metadata": {},
     "output_type": "execute_result"
    }
   ],
   "source": [
    "qualified_contracts = ib.qualifyContracts(*option_contracts)\n",
    "len(qualified_contracts)"
   ]
  },
  {
   "cell_type": "code",
   "execution_count": 9,
   "metadata": {},
   "outputs": [],
   "source": [
    "def onBarUpdate(bars, hasNewBar):\n",
    "    print(bars[-1])"
   ]
  },
  {
   "cell_type": "code",
   "execution_count": 13,
   "metadata": {},
   "outputs": [],
   "source": [
    "all_bars = []\n",
    "for contract in qualified_contracts:\n",
    "    bars = ib.reqRealTimeBars(contract, 5, 'TRADES', False)\n",
    "    bars.updateEvent += onBarUpdate\n",
    "    \n",
    "    ib.sleep(0)\n",
    "    all_bars.append(bars)"
   ]
  },
  {
   "cell_type": "code",
   "execution_count": 14,
   "metadata": {},
   "outputs": [
    {
     "data": {
      "text/plain": [
       "True"
      ]
     },
     "execution_count": 14,
     "metadata": {},
     "output_type": "execute_result"
    }
   ],
   "source": [
    "ib.sleep(30)"
   ]
  },
  {
   "cell_type": "code",
   "execution_count": 15,
   "metadata": {},
   "outputs": [],
   "source": [
    "for bars in all_bars:\n",
    "    ib.cancelRealTimeBars(bars)"
   ]
  },
  {
   "cell_type": "code",
   "execution_count": null,
   "metadata": {},
   "outputs": [],
   "source": []
  }
 ],
 "metadata": {
  "file_extension": ".py",
  "kernelspec": {
   "display_name": "Python 3",
   "language": "python",
   "name": "python3"
  },
  "language_info": {
   "codemirror_mode": {
    "name": "ipython",
    "version": 3
   },
   "file_extension": ".py",
   "mimetype": "text/x-python",
   "name": "python",
   "nbconvert_exporter": "python",
   "pygments_lexer": "ipython3",
   "version": "3.7.4"
  },
  "mimetype": "text/x-python",
  "name": "python",
  "npconvert_exporter": "python",
  "pygments_lexer": "ipython3",
  "version": 3
 },
 "nbformat": 4,
 "nbformat_minor": 4
}
