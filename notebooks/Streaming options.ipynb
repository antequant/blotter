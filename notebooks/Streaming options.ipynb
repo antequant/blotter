{
 "cells": [
  {
   "cell_type": "code",
   "execution_count": 1,
   "metadata": {},
   "outputs": [],
   "source": [
    "from ib_insync import *\n",
    "import logging\n",
    "import random\n",
    "import itertools"
   ]
  },
  {
   "cell_type": "code",
   "execution_count": 2,
   "metadata": {},
   "outputs": [],
   "source": [
    "util.startLoop()"
   ]
  },
  {
   "cell_type": "code",
   "execution_count": 3,
   "metadata": {},
   "outputs": [
    {
     "data": {
      "text/plain": [
       "<IB connected to 127.0.0.1:4002 clientId=61144>"
      ]
     },
     "execution_count": 3,
     "metadata": {},
     "output_type": "execute_result"
    }
   ],
   "source": [
    "ib = IB()\n",
    "ib.connect('127.0.0.1', 4002, readonly=True, clientId=random.randint(1, 100000))"
   ]
  },
  {
   "cell_type": "code",
   "execution_count": 4,
   "metadata": {},
   "outputs": [
    {
     "data": {
      "text/plain": [
       "[Stock(conId=272093, symbol='MSFT', exchange='SMART', primaryExchange='NASDAQ', currency='USD', localSymbol='MSFT', tradingClass='NMS')]"
      ]
     },
     "execution_count": 4,
     "metadata": {},
     "output_type": "execute_result"
    }
   ],
   "source": [
    "underlying = Stock('MSFT', exchange='SMART', currency='USD')\n",
    "ib.qualifyContracts(underlying)"
   ]
  },
  {
   "cell_type": "code",
   "execution_count": 5,
   "metadata": {
    "scrolled": true
   },
   "outputs": [
    {
     "data": {
      "text/html": [
       "<div>\n",
       "<style scoped>\n",
       "    .dataframe tbody tr th:only-of-type {\n",
       "        vertical-align: middle;\n",
       "    }\n",
       "\n",
       "    .dataframe tbody tr th {\n",
       "        vertical-align: top;\n",
       "    }\n",
       "\n",
       "    .dataframe thead th {\n",
       "        text-align: right;\n",
       "    }\n",
       "</style>\n",
       "<table border=\"1\" class=\"dataframe\">\n",
       "  <thead>\n",
       "    <tr style=\"text-align: right;\">\n",
       "      <th></th>\n",
       "      <th>exchange</th>\n",
       "      <th>underlyingConId</th>\n",
       "      <th>tradingClass</th>\n",
       "      <th>multiplier</th>\n",
       "      <th>expirations</th>\n",
       "      <th>strikes</th>\n",
       "    </tr>\n",
       "  </thead>\n",
       "  <tbody>\n",
       "    <tr>\n",
       "      <th>0</th>\n",
       "      <td>AMEX</td>\n",
       "      <td>272093</td>\n",
       "      <td>MSFT</td>\n",
       "      <td>100</td>\n",
       "      <td>[20191220, 20191227, 20200103, 20200110, 20200...</td>\n",
       "      <td>[37.5, 40.0, 42.5, 45.0, 47.5, 50.0, 55.0, 60....</td>\n",
       "    </tr>\n",
       "    <tr>\n",
       "      <th>1</th>\n",
       "      <td>BOX</td>\n",
       "      <td>272093</td>\n",
       "      <td>MSFT</td>\n",
       "      <td>100</td>\n",
       "      <td>[20191220, 20191227, 20200103, 20200110, 20200...</td>\n",
       "      <td>[37.5, 40.0, 42.5, 45.0, 47.5, 50.0, 55.0, 60....</td>\n",
       "    </tr>\n",
       "    <tr>\n",
       "      <th>2</th>\n",
       "      <td>CBOE2</td>\n",
       "      <td>272093</td>\n",
       "      <td>MSFT</td>\n",
       "      <td>100</td>\n",
       "      <td>[20191220, 20191227, 20200103, 20200110, 20200...</td>\n",
       "      <td>[37.5, 40.0, 42.5, 45.0, 47.5, 50.0, 55.0, 60....</td>\n",
       "    </tr>\n",
       "    <tr>\n",
       "      <th>3</th>\n",
       "      <td>BATS</td>\n",
       "      <td>272093</td>\n",
       "      <td>MSFT</td>\n",
       "      <td>100</td>\n",
       "      <td>[20191220, 20191227, 20200103, 20200110, 20200...</td>\n",
       "      <td>[37.5, 40.0, 42.5, 45.0, 47.5, 50.0, 55.0, 60....</td>\n",
       "    </tr>\n",
       "    <tr>\n",
       "      <th>4</th>\n",
       "      <td>EMERALD</td>\n",
       "      <td>272093</td>\n",
       "      <td>MSFT</td>\n",
       "      <td>100</td>\n",
       "      <td>[20191220, 20191227, 20200103, 20200110, 20200...</td>\n",
       "      <td>[37.5, 40.0, 42.5, 45.0, 47.5, 50.0, 55.0, 60....</td>\n",
       "    </tr>\n",
       "    <tr>\n",
       "      <th>5</th>\n",
       "      <td>PHLX</td>\n",
       "      <td>272093</td>\n",
       "      <td>MSFT</td>\n",
       "      <td>100</td>\n",
       "      <td>[20191220, 20191227, 20200103, 20200110, 20200...</td>\n",
       "      <td>[37.5, 40.0, 42.5, 45.0, 47.5, 50.0, 55.0, 60....</td>\n",
       "    </tr>\n",
       "    <tr>\n",
       "      <th>6</th>\n",
       "      <td>NASDAQOM</td>\n",
       "      <td>272093</td>\n",
       "      <td>MSFT</td>\n",
       "      <td>100</td>\n",
       "      <td>[20191220, 20191227, 20200103, 20200110, 20200...</td>\n",
       "      <td>[37.5, 40.0, 42.5, 45.0, 47.5, 50.0, 55.0, 60....</td>\n",
       "    </tr>\n",
       "    <tr>\n",
       "      <th>7</th>\n",
       "      <td>PSE</td>\n",
       "      <td>272093</td>\n",
       "      <td>MSFT</td>\n",
       "      <td>100</td>\n",
       "      <td>[20191220, 20191227, 20200103, 20200110, 20200...</td>\n",
       "      <td>[37.5, 40.0, 42.5, 45.0, 47.5, 50.0, 55.0, 60....</td>\n",
       "    </tr>\n",
       "    <tr>\n",
       "      <th>8</th>\n",
       "      <td>NASDAQBX</td>\n",
       "      <td>272093</td>\n",
       "      <td>MSFT</td>\n",
       "      <td>100</td>\n",
       "      <td>[20191220, 20191227, 20200103, 20200110, 20200...</td>\n",
       "      <td>[37.5, 40.0, 42.5, 45.0, 47.5, 50.0, 55.0, 60....</td>\n",
       "    </tr>\n",
       "    <tr>\n",
       "      <th>9</th>\n",
       "      <td>SMART</td>\n",
       "      <td>272093</td>\n",
       "      <td>MSFT</td>\n",
       "      <td>100</td>\n",
       "      <td>[20191220, 20191227, 20200103, 20200110, 20200...</td>\n",
       "      <td>[37.5, 40.0, 42.5, 45.0, 47.5, 50.0, 55.0, 60....</td>\n",
       "    </tr>\n",
       "    <tr>\n",
       "      <th>10</th>\n",
       "      <td>GEMINI</td>\n",
       "      <td>272093</td>\n",
       "      <td>MSFT</td>\n",
       "      <td>100</td>\n",
       "      <td>[20191220, 20191227, 20200103, 20200110, 20200...</td>\n",
       "      <td>[37.5, 40.0, 42.5, 45.0, 47.5, 50.0, 55.0, 60....</td>\n",
       "    </tr>\n",
       "    <tr>\n",
       "      <th>11</th>\n",
       "      <td>ISE</td>\n",
       "      <td>272093</td>\n",
       "      <td>MSFT</td>\n",
       "      <td>100</td>\n",
       "      <td>[20191220, 20191227, 20200103, 20200110, 20200...</td>\n",
       "      <td>[37.5, 40.0, 42.5, 45.0, 47.5, 50.0, 55.0, 60....</td>\n",
       "    </tr>\n",
       "    <tr>\n",
       "      <th>12</th>\n",
       "      <td>MIAX</td>\n",
       "      <td>272093</td>\n",
       "      <td>MSFT</td>\n",
       "      <td>100</td>\n",
       "      <td>[20191220, 20191227, 20200103, 20200110, 20200...</td>\n",
       "      <td>[37.5, 40.0, 42.5, 45.0, 47.5, 50.0, 55.0, 60....</td>\n",
       "    </tr>\n",
       "    <tr>\n",
       "      <th>13</th>\n",
       "      <td>PEARL</td>\n",
       "      <td>272093</td>\n",
       "      <td>MSFT</td>\n",
       "      <td>100</td>\n",
       "      <td>[20191220, 20191227, 20200103, 20200110, 20200...</td>\n",
       "      <td>[37.5, 40.0, 42.5, 45.0, 47.5, 50.0, 55.0, 60....</td>\n",
       "    </tr>\n",
       "    <tr>\n",
       "      <th>14</th>\n",
       "      <td>EDGX</td>\n",
       "      <td>272093</td>\n",
       "      <td>MSFT</td>\n",
       "      <td>100</td>\n",
       "      <td>[20191220, 20191227, 20200103, 20200110, 20200...</td>\n",
       "      <td>[37.5, 40.0, 42.5, 45.0, 47.5, 50.0, 55.0, 60....</td>\n",
       "    </tr>\n",
       "    <tr>\n",
       "      <th>15</th>\n",
       "      <td>CBOE</td>\n",
       "      <td>272093</td>\n",
       "      <td>MSFT</td>\n",
       "      <td>100</td>\n",
       "      <td>[20191220, 20191227, 20200103, 20200110, 20200...</td>\n",
       "      <td>[37.5, 40.0, 42.5, 45.0, 47.5, 50.0, 55.0, 60....</td>\n",
       "    </tr>\n",
       "    <tr>\n",
       "      <th>16</th>\n",
       "      <td>MERCURY</td>\n",
       "      <td>272093</td>\n",
       "      <td>MSFT</td>\n",
       "      <td>100</td>\n",
       "      <td>[20191220, 20191227, 20200103, 20200110, 20200...</td>\n",
       "      <td>[37.5, 40.0, 42.5, 45.0, 47.5, 50.0, 55.0, 60....</td>\n",
       "    </tr>\n",
       "  </tbody>\n",
       "</table>\n",
       "</div>"
      ],
      "text/plain": [
       "    exchange underlyingConId tradingClass multiplier  \\\n",
       "0       AMEX          272093         MSFT        100   \n",
       "1        BOX          272093         MSFT        100   \n",
       "2      CBOE2          272093         MSFT        100   \n",
       "3       BATS          272093         MSFT        100   \n",
       "4    EMERALD          272093         MSFT        100   \n",
       "5       PHLX          272093         MSFT        100   \n",
       "6   NASDAQOM          272093         MSFT        100   \n",
       "7        PSE          272093         MSFT        100   \n",
       "8   NASDAQBX          272093         MSFT        100   \n",
       "9      SMART          272093         MSFT        100   \n",
       "10    GEMINI          272093         MSFT        100   \n",
       "11       ISE          272093         MSFT        100   \n",
       "12      MIAX          272093         MSFT        100   \n",
       "13     PEARL          272093         MSFT        100   \n",
       "14      EDGX          272093         MSFT        100   \n",
       "15      CBOE          272093         MSFT        100   \n",
       "16   MERCURY          272093         MSFT        100   \n",
       "\n",
       "                                          expirations  \\\n",
       "0   [20191220, 20191227, 20200103, 20200110, 20200...   \n",
       "1   [20191220, 20191227, 20200103, 20200110, 20200...   \n",
       "2   [20191220, 20191227, 20200103, 20200110, 20200...   \n",
       "3   [20191220, 20191227, 20200103, 20200110, 20200...   \n",
       "4   [20191220, 20191227, 20200103, 20200110, 20200...   \n",
       "5   [20191220, 20191227, 20200103, 20200110, 20200...   \n",
       "6   [20191220, 20191227, 20200103, 20200110, 20200...   \n",
       "7   [20191220, 20191227, 20200103, 20200110, 20200...   \n",
       "8   [20191220, 20191227, 20200103, 20200110, 20200...   \n",
       "9   [20191220, 20191227, 20200103, 20200110, 20200...   \n",
       "10  [20191220, 20191227, 20200103, 20200110, 20200...   \n",
       "11  [20191220, 20191227, 20200103, 20200110, 20200...   \n",
       "12  [20191220, 20191227, 20200103, 20200110, 20200...   \n",
       "13  [20191220, 20191227, 20200103, 20200110, 20200...   \n",
       "14  [20191220, 20191227, 20200103, 20200110, 20200...   \n",
       "15  [20191220, 20191227, 20200103, 20200110, 20200...   \n",
       "16  [20191220, 20191227, 20200103, 20200110, 20200...   \n",
       "\n",
       "                                              strikes  \n",
       "0   [37.5, 40.0, 42.5, 45.0, 47.5, 50.0, 55.0, 60....  \n",
       "1   [37.5, 40.0, 42.5, 45.0, 47.5, 50.0, 55.0, 60....  \n",
       "2   [37.5, 40.0, 42.5, 45.0, 47.5, 50.0, 55.0, 60....  \n",
       "3   [37.5, 40.0, 42.5, 45.0, 47.5, 50.0, 55.0, 60....  \n",
       "4   [37.5, 40.0, 42.5, 45.0, 47.5, 50.0, 55.0, 60....  \n",
       "5   [37.5, 40.0, 42.5, 45.0, 47.5, 50.0, 55.0, 60....  \n",
       "6   [37.5, 40.0, 42.5, 45.0, 47.5, 50.0, 55.0, 60....  \n",
       "7   [37.5, 40.0, 42.5, 45.0, 47.5, 50.0, 55.0, 60....  \n",
       "8   [37.5, 40.0, 42.5, 45.0, 47.5, 50.0, 55.0, 60....  \n",
       "9   [37.5, 40.0, 42.5, 45.0, 47.5, 50.0, 55.0, 60....  \n",
       "10  [37.5, 40.0, 42.5, 45.0, 47.5, 50.0, 55.0, 60....  \n",
       "11  [37.5, 40.0, 42.5, 45.0, 47.5, 50.0, 55.0, 60....  \n",
       "12  [37.5, 40.0, 42.5, 45.0, 47.5, 50.0, 55.0, 60....  \n",
       "13  [37.5, 40.0, 42.5, 45.0, 47.5, 50.0, 55.0, 60....  \n",
       "14  [37.5, 40.0, 42.5, 45.0, 47.5, 50.0, 55.0, 60....  \n",
       "15  [37.5, 40.0, 42.5, 45.0, 47.5, 50.0, 55.0, 60....  \n",
       "16  [37.5, 40.0, 42.5, 45.0, 47.5, 50.0, 55.0, 60....  "
      ]
     },
     "execution_count": 5,
     "metadata": {},
     "output_type": "execute_result"
    }
   ],
   "source": [
    "option_chains = ib.reqSecDefOptParams(\n",
    "    underlyingSymbol=underlying.symbol,\n",
    "    futFopExchange=underlying.exchange if underlying.secType == \"FUT\" else \"\",\n",
    "    underlyingSecType=underlying.secType,\n",
    "    underlyingConId=underlying.conId,\n",
    ")\n",
    "\n",
    "util.df(option_chains)"
   ]
  },
  {
   "cell_type": "code",
   "execution_count": 6,
   "metadata": {},
   "outputs": [
    {
     "data": {
      "text/html": [
       "<div>\n",
       "<style scoped>\n",
       "    .dataframe tbody tr th:only-of-type {\n",
       "        vertical-align: middle;\n",
       "    }\n",
       "\n",
       "    .dataframe tbody tr th {\n",
       "        vertical-align: top;\n",
       "    }\n",
       "\n",
       "    .dataframe thead th {\n",
       "        text-align: right;\n",
       "    }\n",
       "</style>\n",
       "<table border=\"1\" class=\"dataframe\">\n",
       "  <thead>\n",
       "    <tr style=\"text-align: right;\">\n",
       "      <th></th>\n",
       "      <th>exchange</th>\n",
       "      <th>underlyingConId</th>\n",
       "      <th>tradingClass</th>\n",
       "      <th>multiplier</th>\n",
       "      <th>expirations</th>\n",
       "      <th>strikes</th>\n",
       "    </tr>\n",
       "  </thead>\n",
       "  <tbody>\n",
       "    <tr>\n",
       "      <th>0</th>\n",
       "      <td>AMEX</td>\n",
       "      <td>272093</td>\n",
       "      <td>MSFT</td>\n",
       "      <td>100</td>\n",
       "      <td>[20191220, 20191227, 20200103, 20200110, 20200...</td>\n",
       "      <td>[37.5, 40.0, 42.5, 45.0, 47.5, 50.0, 55.0, 60....</td>\n",
       "    </tr>\n",
       "    <tr>\n",
       "      <th>1</th>\n",
       "      <td>BOX</td>\n",
       "      <td>272093</td>\n",
       "      <td>MSFT</td>\n",
       "      <td>100</td>\n",
       "      <td>[20191220, 20191227, 20200103, 20200110, 20200...</td>\n",
       "      <td>[37.5, 40.0, 42.5, 45.0, 47.5, 50.0, 55.0, 60....</td>\n",
       "    </tr>\n",
       "    <tr>\n",
       "      <th>2</th>\n",
       "      <td>CBOE2</td>\n",
       "      <td>272093</td>\n",
       "      <td>MSFT</td>\n",
       "      <td>100</td>\n",
       "      <td>[20191220, 20191227, 20200103, 20200110, 20200...</td>\n",
       "      <td>[37.5, 40.0, 42.5, 45.0, 47.5, 50.0, 55.0, 60....</td>\n",
       "    </tr>\n",
       "    <tr>\n",
       "      <th>3</th>\n",
       "      <td>BATS</td>\n",
       "      <td>272093</td>\n",
       "      <td>MSFT</td>\n",
       "      <td>100</td>\n",
       "      <td>[20191220, 20191227, 20200103, 20200110, 20200...</td>\n",
       "      <td>[37.5, 40.0, 42.5, 45.0, 47.5, 50.0, 55.0, 60....</td>\n",
       "    </tr>\n",
       "    <tr>\n",
       "      <th>4</th>\n",
       "      <td>EMERALD</td>\n",
       "      <td>272093</td>\n",
       "      <td>MSFT</td>\n",
       "      <td>100</td>\n",
       "      <td>[20191220, 20191227, 20200103, 20200110, 20200...</td>\n",
       "      <td>[37.5, 40.0, 42.5, 45.0, 47.5, 50.0, 55.0, 60....</td>\n",
       "    </tr>\n",
       "    <tr>\n",
       "      <th>5</th>\n",
       "      <td>PHLX</td>\n",
       "      <td>272093</td>\n",
       "      <td>MSFT</td>\n",
       "      <td>100</td>\n",
       "      <td>[20191220, 20191227, 20200103, 20200110, 20200...</td>\n",
       "      <td>[37.5, 40.0, 42.5, 45.0, 47.5, 50.0, 55.0, 60....</td>\n",
       "    </tr>\n",
       "    <tr>\n",
       "      <th>6</th>\n",
       "      <td>NASDAQOM</td>\n",
       "      <td>272093</td>\n",
       "      <td>MSFT</td>\n",
       "      <td>100</td>\n",
       "      <td>[20191220, 20191227, 20200103, 20200110, 20200...</td>\n",
       "      <td>[37.5, 40.0, 42.5, 45.0, 47.5, 50.0, 55.0, 60....</td>\n",
       "    </tr>\n",
       "    <tr>\n",
       "      <th>7</th>\n",
       "      <td>PSE</td>\n",
       "      <td>272093</td>\n",
       "      <td>MSFT</td>\n",
       "      <td>100</td>\n",
       "      <td>[20191220, 20191227, 20200103, 20200110, 20200...</td>\n",
       "      <td>[37.5, 40.0, 42.5, 45.0, 47.5, 50.0, 55.0, 60....</td>\n",
       "    </tr>\n",
       "    <tr>\n",
       "      <th>8</th>\n",
       "      <td>NASDAQBX</td>\n",
       "      <td>272093</td>\n",
       "      <td>MSFT</td>\n",
       "      <td>100</td>\n",
       "      <td>[20191220, 20191227, 20200103, 20200110, 20200...</td>\n",
       "      <td>[37.5, 40.0, 42.5, 45.0, 47.5, 50.0, 55.0, 60....</td>\n",
       "    </tr>\n",
       "    <tr>\n",
       "      <th>9</th>\n",
       "      <td>SMART</td>\n",
       "      <td>272093</td>\n",
       "      <td>MSFT</td>\n",
       "      <td>100</td>\n",
       "      <td>[20191220, 20191227, 20200103, 20200110, 20200...</td>\n",
       "      <td>[37.5, 40.0, 42.5, 45.0, 47.5, 50.0, 55.0, 60....</td>\n",
       "    </tr>\n",
       "    <tr>\n",
       "      <th>10</th>\n",
       "      <td>GEMINI</td>\n",
       "      <td>272093</td>\n",
       "      <td>MSFT</td>\n",
       "      <td>100</td>\n",
       "      <td>[20191220, 20191227, 20200103, 20200110, 20200...</td>\n",
       "      <td>[37.5, 40.0, 42.5, 45.0, 47.5, 50.0, 55.0, 60....</td>\n",
       "    </tr>\n",
       "    <tr>\n",
       "      <th>11</th>\n",
       "      <td>ISE</td>\n",
       "      <td>272093</td>\n",
       "      <td>MSFT</td>\n",
       "      <td>100</td>\n",
       "      <td>[20191220, 20191227, 20200103, 20200110, 20200...</td>\n",
       "      <td>[37.5, 40.0, 42.5, 45.0, 47.5, 50.0, 55.0, 60....</td>\n",
       "    </tr>\n",
       "    <tr>\n",
       "      <th>12</th>\n",
       "      <td>MIAX</td>\n",
       "      <td>272093</td>\n",
       "      <td>MSFT</td>\n",
       "      <td>100</td>\n",
       "      <td>[20191220, 20191227, 20200103, 20200110, 20200...</td>\n",
       "      <td>[37.5, 40.0, 42.5, 45.0, 47.5, 50.0, 55.0, 60....</td>\n",
       "    </tr>\n",
       "    <tr>\n",
       "      <th>13</th>\n",
       "      <td>PEARL</td>\n",
       "      <td>272093</td>\n",
       "      <td>MSFT</td>\n",
       "      <td>100</td>\n",
       "      <td>[20191220, 20191227, 20200103, 20200110, 20200...</td>\n",
       "      <td>[37.5, 40.0, 42.5, 45.0, 47.5, 50.0, 55.0, 60....</td>\n",
       "    </tr>\n",
       "    <tr>\n",
       "      <th>14</th>\n",
       "      <td>EDGX</td>\n",
       "      <td>272093</td>\n",
       "      <td>MSFT</td>\n",
       "      <td>100</td>\n",
       "      <td>[20191220, 20191227, 20200103, 20200110, 20200...</td>\n",
       "      <td>[37.5, 40.0, 42.5, 45.0, 47.5, 50.0, 55.0, 60....</td>\n",
       "    </tr>\n",
       "    <tr>\n",
       "      <th>15</th>\n",
       "      <td>CBOE</td>\n",
       "      <td>272093</td>\n",
       "      <td>MSFT</td>\n",
       "      <td>100</td>\n",
       "      <td>[20191220, 20191227, 20200103, 20200110, 20200...</td>\n",
       "      <td>[37.5, 40.0, 42.5, 45.0, 47.5, 50.0, 55.0, 60....</td>\n",
       "    </tr>\n",
       "    <tr>\n",
       "      <th>16</th>\n",
       "      <td>MERCURY</td>\n",
       "      <td>272093</td>\n",
       "      <td>MSFT</td>\n",
       "      <td>100</td>\n",
       "      <td>[20191220, 20191227, 20200103, 20200110, 20200...</td>\n",
       "      <td>[37.5, 40.0, 42.5, 45.0, 47.5, 50.0, 55.0, 60....</td>\n",
       "    </tr>\n",
       "  </tbody>\n",
       "</table>\n",
       "</div>"
      ],
      "text/plain": [
       "    exchange underlyingConId tradingClass multiplier  \\\n",
       "0       AMEX          272093         MSFT        100   \n",
       "1        BOX          272093         MSFT        100   \n",
       "2      CBOE2          272093         MSFT        100   \n",
       "3       BATS          272093         MSFT        100   \n",
       "4    EMERALD          272093         MSFT        100   \n",
       "5       PHLX          272093         MSFT        100   \n",
       "6   NASDAQOM          272093         MSFT        100   \n",
       "7        PSE          272093         MSFT        100   \n",
       "8   NASDAQBX          272093         MSFT        100   \n",
       "9      SMART          272093         MSFT        100   \n",
       "10    GEMINI          272093         MSFT        100   \n",
       "11       ISE          272093         MSFT        100   \n",
       "12      MIAX          272093         MSFT        100   \n",
       "13     PEARL          272093         MSFT        100   \n",
       "14      EDGX          272093         MSFT        100   \n",
       "15      CBOE          272093         MSFT        100   \n",
       "16   MERCURY          272093         MSFT        100   \n",
       "\n",
       "                                          expirations  \\\n",
       "0   [20191220, 20191227, 20200103, 20200110, 20200...   \n",
       "1   [20191220, 20191227, 20200103, 20200110, 20200...   \n",
       "2   [20191220, 20191227, 20200103, 20200110, 20200...   \n",
       "3   [20191220, 20191227, 20200103, 20200110, 20200...   \n",
       "4   [20191220, 20191227, 20200103, 20200110, 20200...   \n",
       "5   [20191220, 20191227, 20200103, 20200110, 20200...   \n",
       "6   [20191220, 20191227, 20200103, 20200110, 20200...   \n",
       "7   [20191220, 20191227, 20200103, 20200110, 20200...   \n",
       "8   [20191220, 20191227, 20200103, 20200110, 20200...   \n",
       "9   [20191220, 20191227, 20200103, 20200110, 20200...   \n",
       "10  [20191220, 20191227, 20200103, 20200110, 20200...   \n",
       "11  [20191220, 20191227, 20200103, 20200110, 20200...   \n",
       "12  [20191220, 20191227, 20200103, 20200110, 20200...   \n",
       "13  [20191220, 20191227, 20200103, 20200110, 20200...   \n",
       "14  [20191220, 20191227, 20200103, 20200110, 20200...   \n",
       "15  [20191220, 20191227, 20200103, 20200110, 20200...   \n",
       "16  [20191220, 20191227, 20200103, 20200110, 20200...   \n",
       "\n",
       "                                              strikes  \n",
       "0   [37.5, 40.0, 42.5, 45.0, 47.5, 50.0, 55.0, 60....  \n",
       "1   [37.5, 40.0, 42.5, 45.0, 47.5, 50.0, 55.0, 60....  \n",
       "2   [37.5, 40.0, 42.5, 45.0, 47.5, 50.0, 55.0, 60....  \n",
       "3   [37.5, 40.0, 42.5, 45.0, 47.5, 50.0, 55.0, 60....  \n",
       "4   [37.5, 40.0, 42.5, 45.0, 47.5, 50.0, 55.0, 60....  \n",
       "5   [37.5, 40.0, 42.5, 45.0, 47.5, 50.0, 55.0, 60....  \n",
       "6   [37.5, 40.0, 42.5, 45.0, 47.5, 50.0, 55.0, 60....  \n",
       "7   [37.5, 40.0, 42.5, 45.0, 47.5, 50.0, 55.0, 60....  \n",
       "8   [37.5, 40.0, 42.5, 45.0, 47.5, 50.0, 55.0, 60....  \n",
       "9   [37.5, 40.0, 42.5, 45.0, 47.5, 50.0, 55.0, 60....  \n",
       "10  [37.5, 40.0, 42.5, 45.0, 47.5, 50.0, 55.0, 60....  \n",
       "11  [37.5, 40.0, 42.5, 45.0, 47.5, 50.0, 55.0, 60....  \n",
       "12  [37.5, 40.0, 42.5, 45.0, 47.5, 50.0, 55.0, 60....  \n",
       "13  [37.5, 40.0, 42.5, 45.0, 47.5, 50.0, 55.0, 60....  \n",
       "14  [37.5, 40.0, 42.5, 45.0, 47.5, 50.0, 55.0, 60....  \n",
       "15  [37.5, 40.0, 42.5, 45.0, 47.5, 50.0, 55.0, 60....  \n",
       "16  [37.5, 40.0, 42.5, 45.0, 47.5, 50.0, 55.0, 60....  "
      ]
     },
     "execution_count": 6,
     "metadata": {},
     "output_type": "execute_result"
    }
   ],
   "source": [
    "limited_option_chains = [c for c in option_chains]\n",
    "util.df(limited_option_chains)"
   ]
  },
  {
   "cell_type": "code",
   "execution_count": 7,
   "metadata": {},
   "outputs": [
    {
     "data": {
      "text/plain": [
       "2556"
      ]
     },
     "execution_count": 7,
     "metadata": {},
     "output_type": "execute_result"
    }
   ],
   "source": [
    "option_contracts = [\n",
    "    (FuturesOption if underlying.secType == \"FUT\" else Option)(\n",
    "        symbol=underlying.symbol,\n",
    "        lastTradeDateOrContractMonth=expiration,\n",
    "        strike=strike,\n",
    "        right=right,\n",
    "        exchange=chain.exchange,\n",
    "        multiplier=chain.multiplier,\n",
    "        tradingClass=chain.tradingClass,\n",
    "    )\n",
    "    for chain in limited_option_chains\n",
    "    if chain.exchange == underlying.exchange\n",
    "    for expiration in chain.expirations\n",
    "    for strike in chain.strikes\n",
    "    for right in [\"P\", \"C\"]\n",
    "]\n",
    "\n",
    "len(option_contracts)"
   ]
  },
  {
   "cell_type": "code",
   "execution_count": 8,
   "metadata": {},
   "outputs": [],
   "source": [
    "logging.getLogger('ib_insync').level = logging.CRITICAL"
   ]
  },
  {
   "cell_type": "code",
   "execution_count": 9,
   "metadata": {
    "scrolled": true
   },
   "outputs": [
    {
     "data": {
      "text/plain": [
       "1182"
      ]
     },
     "execution_count": 9,
     "metadata": {},
     "output_type": "execute_result"
    }
   ],
   "source": [
    "qualified_contracts = ib.qualifyContracts(*option_contracts)\n",
    "len(qualified_contracts)"
   ]
  },
  {
   "cell_type": "code",
   "execution_count": 10,
   "metadata": {},
   "outputs": [],
   "source": [
    "logging.getLogger('ib_insync').level = logging.INFO"
   ]
  },
  {
   "cell_type": "code",
   "execution_count": 11,
   "metadata": {},
   "outputs": [],
   "source": [
    "def onBarUpdate(bars, hasNewBar):\n",
    "    print(bars.contract, bars[-1])"
   ]
  },
  {
   "cell_type": "code",
   "execution_count": 16,
   "metadata": {},
   "outputs": [],
   "source": [
    "all_bars = []\n",
    "for contract in qualified_contracts:\n",
    "    bars = ib.reqRealTimeBars(contract, 5, 'TRADES', False)\n",
    "    bars.updateEvent += onBarUpdate\n",
    "    \n",
    "    ib.sleep(0)\n",
    "    all_bars.append(bars)"
   ]
  },
  {
   "cell_type": "code",
   "execution_count": 17,
   "metadata": {},
   "outputs": [
    {
     "data": {
      "text/plain": [
       "1182"
      ]
     },
     "execution_count": 17,
     "metadata": {},
     "output_type": "execute_result"
    }
   ],
   "source": [
    "len(all_bars)"
   ]
  },
  {
   "cell_type": "code",
   "execution_count": 18,
   "metadata": {
    "scrolled": true
   },
   "outputs": [
    {
     "data": {
      "text/plain": [
       "True"
      ]
     },
     "execution_count": 18,
     "metadata": {},
     "output_type": "execute_result"
    }
   ],
   "source": [
    "ib.sleep(60)"
   ]
  },
  {
   "cell_type": "code",
   "execution_count": 19,
   "metadata": {},
   "outputs": [
    {
     "data": {
      "text/plain": [
       "0"
      ]
     },
     "execution_count": 19,
     "metadata": {},
     "output_type": "execute_result"
    }
   ],
   "source": [
    "sum((len(bars) for bars in all_bars))"
   ]
  },
  {
   "cell_type": "code",
   "execution_count": 20,
   "metadata": {},
   "outputs": [],
   "source": [
    "for bars in all_bars:\n",
    "    ib.cancelRealTimeBars(bars)"
   ]
  },
  {
   "cell_type": "code",
   "execution_count": null,
   "metadata": {},
   "outputs": [],
   "source": []
  }
 ],
 "metadata": {
  "file_extension": ".py",
  "kernelspec": {
   "display_name": "Python 3",
   "language": "python",
   "name": "python3"
  },
  "language_info": {
   "codemirror_mode": {
    "name": "ipython",
    "version": 3
   },
   "file_extension": ".py",
   "mimetype": "text/x-python",
   "name": "python",
   "nbconvert_exporter": "python",
   "pygments_lexer": "ipython3",
   "version": "3.7.4"
  },
  "mimetype": "text/x-python",
  "name": "python",
  "npconvert_exporter": "python",
  "pygments_lexer": "ipython3",
  "version": 3
 },
 "nbformat": 4,
 "nbformat_minor": 4
}
